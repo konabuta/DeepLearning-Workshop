{
 "cells": [
  {
   "cell_type": "markdown",
   "metadata": {},
   "source": [
    "# Keras によるモデル開発 (ローカル環境)"
   ]
  },
  {
   "cell_type": "markdown",
   "metadata": {},
   "source": [
    "Keras を利用したモデル学習を行います。手書き数字を区別する画像認識モデルを構築します。"
   ]
  },
  {
   "cell_type": "markdown",
   "metadata": {},
   "source": [
    "## Azure Machine Learning Python SDK インポート"
   ]
  },
  {
   "cell_type": "code",
   "execution_count": 1,
   "metadata": {},
   "outputs": [
    {
     "name": "stdout",
     "output_type": "stream",
     "text": [
      "1.0.62\n"
     ]
    }
   ],
   "source": [
    "from azureml.core import Workspace, Dataset, Experiment\n",
    "print(azureml.core.VERSION)"
   ]
  },
  {
   "cell_type": "markdown",
   "metadata": {},
   "source": [
    "## Azure Machine Learning Workspace への接続\n",
    "Azure Machine Learning service へ接続を行います。"
   ]
  },
  {
   "cell_type": "code",
   "execution_count": 2,
   "metadata": {},
   "outputs": [],
   "source": [
    "subscription_id = '9c0f91b8-eb2f-484c-979c-15848c098a6b'\n",
    "resource_group = 'dllab-test'\n",
    "workspace_name = 'azureml'\n",
    "\n",
    "workspace = Workspace(subscription_id, resource_group, workspace_name)"
   ]
  },
  {
   "cell_type": "markdown",
   "metadata": {},
   "source": [
    "## 実験名の設定\n",
    "過去の実験履歴をまとめるために名前をつけておきます。"
   ]
  },
  {
   "cell_type": "code",
   "execution_count": 3,
   "metadata": {},
   "outputs": [],
   "source": [
    "experiment = Experiment(workspace = workspace, name = \"keras_mnist_local\")"
   ]
  },
  {
   "cell_type": "markdown",
   "metadata": {},
   "source": [
    "## モデル学習コード"
   ]
  },
  {
   "cell_type": "markdown",
   "metadata": {},
   "source": [
    "### ライブラリのインポート"
   ]
  },
  {
   "cell_type": "code",
   "execution_count": 4,
   "metadata": {},
   "outputs": [
    {
     "name": "stderr",
     "output_type": "stream",
     "text": [
      "Using TensorFlow backend.\n"
     ]
    }
   ],
   "source": [
    "from __future__ import print_function\n",
    "import numpy as np\n",
    "from keras.datasets import mnist\n",
    "from keras.models import Sequential\n",
    "from keras.layers import Dense, Dropout,Activation\n",
    "from keras.optimizers import SGD\n",
    "from keras.utils import np_utils\n",
    "import tensorflow as tf\n",
    "#from keras.utils import plot_model\n",
    "from tensorflow.python.keras.utils.vis_utils import plot_model\n",
    "#from tensorflow.keras.vis_utils import plot_model"
   ]
  },
  {
   "cell_type": "markdown",
   "metadata": {},
   "source": [
    "### ハイパーパラメータ設定"
   ]
  },
  {
   "cell_type": "code",
   "execution_count": 5,
   "metadata": {},
   "outputs": [],
   "source": [
    "NB_EPOCH = 20\n",
    "BATCH_SIZE = 32\n",
    "NB_CLASSES = 10 #number of outputs = number of digits\n",
    "OPTIMIZER = SGD() #SGD Optimizer\n",
    "N_HIDDEN = 128\n",
    "VALIDATION_SPLIT = 0.3 # Training and Validation data ratio\n",
    "DROPOUT = 0.3 "
   ]
  },
  {
   "cell_type": "code",
   "execution_count": 18,
   "metadata": {},
   "outputs": [],
   "source": [
    "class RunCallback(tf.keras.callbacks.Callback):\n",
    "    def __init__(self, run):\n",
    "        self.run = run\n",
    "        \n",
    "    def on_epoch_end(self, batch, logs={}):\n",
    "        self.run.log(name=\"training_acc\", value=float(logs.get('acc')))\n",
    "        self.run.log(name=\"validation_acc\", value=float(logs.get('val_acc')))"
   ]
  },
  {
   "cell_type": "markdown",
   "metadata": {},
   "source": [
    "### 学習データの準備"
   ]
  },
  {
   "cell_type": "code",
   "execution_count": 19,
   "metadata": {},
   "outputs": [],
   "source": [
    "(X_train, y_train), (X_test, y_test) = mnist.load_data()"
   ]
  },
  {
   "cell_type": "code",
   "execution_count": 20,
   "metadata": {},
   "outputs": [],
   "source": [
    "RESHAPED = 784"
   ]
  },
  {
   "cell_type": "code",
   "execution_count": 21,
   "metadata": {},
   "outputs": [],
   "source": [
    "X_train = X_train.reshape(60000,RESHAPED)\n",
    "X_test = X_test.reshape(10000,RESHAPED)\n",
    "X_train = X_train.astype('float32')\n",
    "X_test = X_test.astype('float32')"
   ]
  },
  {
   "cell_type": "code",
   "execution_count": 22,
   "metadata": {},
   "outputs": [],
   "source": [
    "X_train /= 255\n",
    "X_test /= 255"
   ]
  },
  {
   "cell_type": "code",
   "execution_count": 23,
   "metadata": {},
   "outputs": [],
   "source": [
    "Y_train = np_utils.to_categorical(y_train, NB_CLASSES)\n",
    "Y_test = np_utils.to_categorical(y_test, NB_CLASSES)"
   ]
  },
  {
   "cell_type": "markdown",
   "metadata": {},
   "source": [
    "### モデル実装"
   ]
  },
  {
   "cell_type": "code",
   "execution_count": 24,
   "metadata": {},
   "outputs": [
    {
     "name": "stdout",
     "output_type": "stream",
     "text": [
      "_________________________________________________________________\n",
      "Layer (type)                 Output Shape              Param #   \n",
      "=================================================================\n",
      "dense_4 (Dense)              (None, 128)               100480    \n",
      "_________________________________________________________________\n",
      "activation_4 (Activation)    (None, 128)               0         \n",
      "_________________________________________________________________\n",
      "dropout_3 (Dropout)          (None, 128)               0         \n",
      "_________________________________________________________________\n",
      "dense_5 (Dense)              (None, 128)               16512     \n",
      "_________________________________________________________________\n",
      "activation_5 (Activation)    (None, 128)               0         \n",
      "_________________________________________________________________\n",
      "dropout_4 (Dropout)          (None, 128)               0         \n",
      "_________________________________________________________________\n",
      "dense_6 (Dense)              (None, 10)                1290      \n",
      "_________________________________________________________________\n",
      "activation_6 (Activation)    (None, 10)                0         \n",
      "=================================================================\n",
      "Total params: 118,282\n",
      "Trainable params: 118,282\n",
      "Non-trainable params: 0\n",
      "_________________________________________________________________\n"
     ]
    }
   ],
   "source": [
    "model = Sequential()\n",
    "model.add(Dense(N_HIDDEN, input_shape = (RESHAPED,)))\n",
    "model.add(Activation('relu'))\n",
    "model.add(Dropout(DROPOUT))\n",
    "model.add(Dense(N_HIDDEN))\n",
    "model.add(Activation('relu'))\n",
    "model.add(Dropout(DROPOUT))\n",
    "model.add(Dense(NB_CLASSES))\n",
    "model.add(Activation('softmax'))\n",
    "model.summary()"
   ]
  },
  {
   "cell_type": "code",
   "execution_count": 25,
   "metadata": {},
   "outputs": [],
   "source": [
    "callbacks = list()"
   ]
  },
  {
   "cell_type": "code",
   "execution_count": 26,
   "metadata": {},
   "outputs": [],
   "source": [
    "model.compile(loss ='categorical_crossentropy', optimizer = OPTIMIZER, metrics=['accuracy'])"
   ]
  },
  {
   "cell_type": "markdown",
   "metadata": {},
   "source": [
    "### Azure Machine Learning service メトリック & ログ 記録開始"
   ]
  },
  {
   "cell_type": "code",
   "execution_count": 27,
   "metadata": {},
   "outputs": [],
   "source": [
    "run = experiment.start_logging()"
   ]
  },
  {
   "cell_type": "code",
   "execution_count": 28,
   "metadata": {},
   "outputs": [],
   "source": [
    "callbacks.append(RunCallback(run))"
   ]
  },
  {
   "cell_type": "markdown",
   "metadata": {},
   "source": [
    "## モデル学習"
   ]
  },
  {
   "cell_type": "code",
   "execution_count": 29,
   "metadata": {},
   "outputs": [
    {
     "name": "stdout",
     "output_type": "stream",
     "text": [
      "Train on 42000 samples, validate on 18000 samples\n",
      "Epoch 1/20\n",
      "42000/42000 [==============================] - 7s 156us/step - loss: 1.0292 - acc: 0.6793 - val_loss: 0.4161 - val_acc: 0.8866\n",
      "Epoch 2/20\n",
      "42000/42000 [==============================] - 6s 138us/step - loss: 0.5022 - acc: 0.8502 - val_loss: 0.3105 - val_acc: 0.9110\n",
      "Epoch 3/20\n",
      "42000/42000 [==============================] - 6s 142us/step - loss: 0.4042 - acc: 0.8841 - val_loss: 0.2667 - val_acc: 0.9215\n",
      "Epoch 4/20\n",
      "42000/42000 [==============================] - 6s 147us/step - loss: 0.3498 - acc: 0.8986 - val_loss: 0.2377 - val_acc: 0.9293\n",
      "Epoch 5/20\n",
      "42000/42000 [==============================] - 6s 146us/step - loss: 0.3149 - acc: 0.9083 - val_loss: 0.2184 - val_acc: 0.9348\n",
      "Epoch 6/20\n",
      "42000/42000 [==============================] - 6s 143us/step - loss: 0.2890 - acc: 0.9160 - val_loss: 0.2039 - val_acc: 0.9380\n",
      "Epoch 7/20\n",
      "42000/42000 [==============================] - 6s 144us/step - loss: 0.2702 - acc: 0.9216 - val_loss: 0.1911 - val_acc: 0.9437\n",
      "Epoch 8/20\n",
      "42000/42000 [==============================] - 7s 165us/step - loss: 0.2501 - acc: 0.9278 - val_loss: 0.1797 - val_acc: 0.9469\n",
      "Epoch 9/20\n",
      "42000/42000 [==============================] - 7s 155us/step - loss: 0.2372 - acc: 0.9307 - val_loss: 0.1721 - val_acc: 0.9494\n",
      "Epoch 10/20\n",
      "42000/42000 [==============================] - 6s 152us/step - loss: 0.2240 - acc: 0.9338 - val_loss: 0.1637 - val_acc: 0.9520\n",
      "Epoch 11/20\n",
      "42000/42000 [==============================] - 6s 150us/step - loss: 0.2106 - acc: 0.9380 - val_loss: 0.1560 - val_acc: 0.9543\n",
      "Epoch 12/20\n",
      "42000/42000 [==============================] - 6s 146us/step - loss: 0.2014 - acc: 0.9411 - val_loss: 0.1486 - val_acc: 0.9566\n",
      "Epoch 13/20\n",
      "42000/42000 [==============================] - 6s 149us/step - loss: 0.1932 - acc: 0.9424 - val_loss: 0.1456 - val_acc: 0.9569\n",
      "Epoch 14/20\n",
      "42000/42000 [==============================] - 6s 147us/step - loss: 0.1838 - acc: 0.9470 - val_loss: 0.1414 - val_acc: 0.9592\n",
      "Epoch 15/20\n",
      "42000/42000 [==============================] - 6s 147us/step - loss: 0.1794 - acc: 0.9476 - val_loss: 0.1396 - val_acc: 0.9599\n",
      "Epoch 16/20\n",
      "42000/42000 [==============================] - 6s 147us/step - loss: 0.1745 - acc: 0.9488 - val_loss: 0.1333 - val_acc: 0.9614\n",
      "Epoch 17/20\n",
      "42000/42000 [==============================] - 6s 143us/step - loss: 0.1659 - acc: 0.9510 - val_loss: 0.1303 - val_acc: 0.9616\n",
      "Epoch 18/20\n",
      "42000/42000 [==============================] - 6s 147us/step - loss: 0.1602 - acc: 0.9523 - val_loss: 0.1274 - val_acc: 0.9629\n",
      "Epoch 19/20\n",
      "42000/42000 [==============================] - 6s 149us/step - loss: 0.1547 - acc: 0.9539 - val_loss: 0.1235 - val_acc: 0.9643\n",
      "Epoch 20/20\n",
      "42000/42000 [==============================] - 7s 174us/step - loss: 0.1511 - acc: 0.9549 - val_loss: 0.1202 - val_acc: 0.9643\n"
     ]
    },
    {
     "data": {
      "text/plain": [
       "<keras.callbacks.History at 0x6681954e0>"
      ]
     },
     "execution_count": 29,
     "metadata": {},
     "output_type": "execute_result"
    }
   ],
   "source": [
    "model.fit(X_train,\n",
    "          Y_train,\n",
    "          batch_size=BATCH_SIZE, \n",
    "          epochs=NB_EPOCH, \n",
    "          callbacks= callbacks,\n",
    "          verbose = 1, \n",
    "          validation_split=VALIDATION_SPLIT)"
   ]
  },
  {
   "cell_type": "code",
   "execution_count": 30,
   "metadata": {},
   "outputs": [
    {
     "name": "stdout",
     "output_type": "stream",
     "text": [
      "10000/10000 [==============================] - 0s 27us/step\n",
      "Test score: 0.10981544711720198\n",
      "Test accuracy 0.9651\n",
      "Loss value 0.10981544711720198\n",
      "Accuracy value 0.9651\n"
     ]
    }
   ],
   "source": [
    "score = model.evaluate(X_test, Y_test, verbose= 1)\n",
    "print(\"Test score:\", score[0])\n",
    "print(\"Test accuracy\" , score[1])\n",
    "print(\"Loss value\", score[0])\n",
    "print(\"Accuracy value\", score[1])"
   ]
  },
  {
   "cell_type": "markdown",
   "metadata": {},
   "source": [
    "## メトリックの記録"
   ]
  },
  {
   "cell_type": "code",
   "execution_count": 31,
   "metadata": {},
   "outputs": [],
   "source": [
    "run.log(\"Loss\", score[0])\n",
    "run.log(\"Accuracy\", score[1])\n",
    "run.log(\"BATCH_SIZE\", BATCH_SIZE)"
   ]
  },
  {
   "cell_type": "markdown",
   "metadata": {},
   "source": [
    "## モデル保存"
   ]
  },
  {
   "cell_type": "code",
   "execution_count": 32,
   "metadata": {},
   "outputs": [],
   "source": [
    "# !pip install pydot\n",
    "# !pip install pydot-ng\n",
    "# !pip install graphviz\n",
    "# !sudo apt-get -y install graphviz"
   ]
  },
  {
   "cell_type": "code",
   "execution_count": 33,
   "metadata": {},
   "outputs": [],
   "source": [
    "with run:\n",
    "    #plot_model(model, to_file='./outputs/model.png')\n",
    "    model.save_weights('./outputs/mnist_mlp_weights.h5')"
   ]
  },
  {
   "cell_type": "code",
   "execution_count": 34,
   "metadata": {},
   "outputs": [],
   "source": [
    "run.complete()"
   ]
  },
  {
   "cell_type": "code",
   "execution_count": 35,
   "metadata": {},
   "outputs": [
    {
     "data": {
      "text/html": [
       "<table style=\"width:100%\"><tr><th>Experiment</th><th>Id</th><th>Type</th><th>Status</th><th>Details Page</th><th>Docs Page</th></tr><tr><td>keras_mnist_local</td><td>42ae17df-f545-410c-a69b-f13adfc29211</td><td></td><td>Running</td><td><a href=\"https://mlworkspace.azure.ai/portal/subscriptions/9c0f91b8-eb2f-484c-979c-15848c098a6b/resourceGroups/dllab-test/providers/Microsoft.MachineLearningServices/workspaces/azureml/experiments/keras_mnist_local/runs/42ae17df-f545-410c-a69b-f13adfc29211\" target=\"_blank\" rel=\"noopener\">Link to Azure Portal</a></td><td><a href=\"https://docs.microsoft.com/en-us/python/api/azureml-core/azureml.core.run.Run?view=azure-ml-py\" target=\"_blank\" rel=\"noopener\">Link to Documentation</a></td></tr></table>"
      ],
      "text/plain": [
       "Run(Experiment: keras_mnist_local,\n",
       "Id: 42ae17df-f545-410c-a69b-f13adfc29211,\n",
       "Type: None,\n",
       "Status: Running)"
      ]
     },
     "execution_count": 35,
     "metadata": {},
     "output_type": "execute_result"
    }
   ],
   "source": [
    "run"
   ]
  },
  {
   "cell_type": "code",
   "execution_count": null,
   "metadata": {},
   "outputs": [],
   "source": []
  }
 ],
 "metadata": {
  "kernelspec": {
   "display_name": "myenv",
   "language": "python",
   "name": "myenv"
  },
  "language_info": {
   "codemirror_mode": {
    "name": "ipython",
    "version": 3
   },
   "file_extension": ".py",
   "mimetype": "text/x-python",
   "name": "python",
   "nbconvert_exporter": "python",
   "pygments_lexer": "ipython3",
   "version": "3.6.8"
  }
 },
 "nbformat": 4,
 "nbformat_minor": 2
}
