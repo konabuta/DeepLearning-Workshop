{
 "cells": [
  {
   "cell_type": "markdown",
   "metadata": {},
   "source": [
    "# Keras によるモデル開発 (ローカル環境)"
   ]
  },
  {
   "cell_type": "markdown",
   "metadata": {},
   "source": [
    "Keras を利用したモデル学習を行います。手書き数字を区別する画像認識モデルを構築します。"
   ]
  },
  {
   "cell_type": "markdown",
   "metadata": {},
   "source": [
    "## Azure Machine Learning Python SDK インポート"
   ]
  },
  {
   "cell_type": "code",
   "execution_count": 1,
   "metadata": {},
   "outputs": [
    {
     "name": "stdout",
     "output_type": "stream",
     "text": [
      "1.0.65\n"
     ]
    }
   ],
   "source": [
    "from azureml.core import Workspace, Dataset, Experiment\n",
    "print(azureml.core.VERSION)"
   ]
  },
  {
   "cell_type": "markdown",
   "metadata": {},
   "source": [
    "## Azure Machine Learning Workspace への接続\n",
    "Azure Machine Learning service へ接続を行います。"
   ]
  },
  {
   "cell_type": "code",
   "execution_count": 2,
   "metadata": {},
   "outputs": [],
   "source": [
    "subscription_id = '9c0f91b8-eb2f-484c-979c-15848c098a6b'\n",
    "resource_group = 'dllab-test'\n",
    "workspace_name = 'azureml'\n",
    "\n",
    "workspace = Workspace(subscription_id, resource_group, workspace_name)"
   ]
  },
  {
   "cell_type": "markdown",
   "metadata": {},
   "source": [
    "## 実験名の設定\n",
    "過去の実験履歴をまとめるために名前をつけておきます。"
   ]
  },
  {
   "cell_type": "code",
   "execution_count": 3,
   "metadata": {},
   "outputs": [],
   "source": [
    "experiment = Experiment(workspace = workspace, name = \"keras_mnist_local\")"
   ]
  },
  {
   "cell_type": "markdown",
   "metadata": {},
   "source": [
    "## モデル学習コード"
   ]
  },
  {
   "cell_type": "markdown",
   "metadata": {},
   "source": [
    "### ライブラリのインポート"
   ]
  },
  {
   "cell_type": "code",
   "execution_count": 4,
   "metadata": {},
   "outputs": [
    {
     "name": "stderr",
     "output_type": "stream",
     "text": [
      "/anaconda/envs/azureml_py36/lib/python3.6/site-packages/h5py/__init__.py:34: FutureWarning: Conversion of the second argument of issubdtype from `float` to `np.floating` is deprecated. In future, it will be treated as `np.float64 == np.dtype(float).type`.\n",
      "  from ._conv import register_converters as _register_converters\n",
      "Using TensorFlow backend.\n"
     ]
    }
   ],
   "source": [
    "from __future__ import print_function\n",
    "import numpy as np\n",
    "from keras.datasets import mnist\n",
    "from keras.models import Sequential\n",
    "from keras.layers import Dense, Dropout,Activation\n",
    "from keras.optimizers import SGD\n",
    "from keras.utils import np_utils\n",
    "import tensorflow as tf\n",
    "#from keras.utils import plot_model\n",
    "from tensorflow.python.keras.utils.vis_utils import plot_model\n",
    "#from tensorflow.keras.vis_utils import plot_model"
   ]
  },
  {
   "cell_type": "markdown",
   "metadata": {},
   "source": [
    "### ハイパーパラメータ設定"
   ]
  },
  {
   "cell_type": "code",
   "execution_count": 5,
   "metadata": {},
   "outputs": [],
   "source": [
    "NB_EPOCH = 20\n",
    "BATCH_SIZE = 32\n",
    "NB_CLASSES = 10 #number of outputs = number of digits\n",
    "OPTIMIZER = SGD() #SGD Optimizer\n",
    "N_HIDDEN = 128\n",
    "VALIDATION_SPLIT = 0.3 # Training and Validation data ratio\n",
    "DROPOUT = 0.3 "
   ]
  },
  {
   "cell_type": "code",
   "execution_count": 6,
   "metadata": {},
   "outputs": [],
   "source": [
    "class RunCallback(tf.keras.callbacks.Callback):\n",
    "    def __init__(self, run):\n",
    "        self.run = run\n",
    "        \n",
    "    def on_epoch_end(self, batch, logs={}):\n",
    "        self.run.log(name=\"training_acc\", value=float(logs.get('accuracy')))\n",
    "        self.run.log(name=\"validation_acc\", value=float(logs.get('val_accuracy')))"
   ]
  },
  {
   "cell_type": "markdown",
   "metadata": {},
   "source": [
    "### 学習データの準備"
   ]
  },
  {
   "cell_type": "code",
   "execution_count": 7,
   "metadata": {},
   "outputs": [],
   "source": [
    "(X_train, y_train), (X_test, y_test) = mnist.load_data()"
   ]
  },
  {
   "cell_type": "code",
   "execution_count": 8,
   "metadata": {},
   "outputs": [],
   "source": [
    "RESHAPED = 784"
   ]
  },
  {
   "cell_type": "code",
   "execution_count": 9,
   "metadata": {},
   "outputs": [],
   "source": [
    "X_train = X_train.reshape(60000,RESHAPED)\n",
    "X_test = X_test.reshape(10000,RESHAPED)\n",
    "X_train = X_train.astype('float32')\n",
    "X_test = X_test.astype('float32')"
   ]
  },
  {
   "cell_type": "code",
   "execution_count": 10,
   "metadata": {},
   "outputs": [],
   "source": [
    "X_train /= 255\n",
    "X_test /= 255"
   ]
  },
  {
   "cell_type": "code",
   "execution_count": 11,
   "metadata": {},
   "outputs": [],
   "source": [
    "Y_train = np_utils.to_categorical(y_train, NB_CLASSES)\n",
    "Y_test = np_utils.to_categorical(y_test, NB_CLASSES)"
   ]
  },
  {
   "cell_type": "markdown",
   "metadata": {},
   "source": [
    "### モデル実装"
   ]
  },
  {
   "cell_type": "code",
   "execution_count": 12,
   "metadata": {},
   "outputs": [
    {
     "name": "stdout",
     "output_type": "stream",
     "text": [
      "Model: \"sequential_1\"\n",
      "_________________________________________________________________\n",
      "Layer (type)                 Output Shape              Param #   \n",
      "=================================================================\n",
      "dense_1 (Dense)              (None, 128)               100480    \n",
      "_________________________________________________________________\n",
      "activation_1 (Activation)    (None, 128)               0         \n",
      "_________________________________________________________________\n",
      "dropout_1 (Dropout)          (None, 128)               0         \n",
      "_________________________________________________________________\n",
      "dense_2 (Dense)              (None, 128)               16512     \n",
      "_________________________________________________________________\n",
      "activation_2 (Activation)    (None, 128)               0         \n",
      "_________________________________________________________________\n",
      "dropout_2 (Dropout)          (None, 128)               0         \n",
      "_________________________________________________________________\n",
      "dense_3 (Dense)              (None, 10)                1290      \n",
      "_________________________________________________________________\n",
      "activation_3 (Activation)    (None, 10)                0         \n",
      "=================================================================\n",
      "Total params: 118,282\n",
      "Trainable params: 118,282\n",
      "Non-trainable params: 0\n",
      "_________________________________________________________________\n"
     ]
    }
   ],
   "source": [
    "model = Sequential()\n",
    "model.add(Dense(N_HIDDEN, input_shape = (RESHAPED,)))\n",
    "model.add(Activation('relu'))\n",
    "model.add(Dropout(DROPOUT))\n",
    "model.add(Dense(N_HIDDEN))\n",
    "model.add(Activation('relu'))\n",
    "model.add(Dropout(DROPOUT))\n",
    "model.add(Dense(NB_CLASSES))\n",
    "model.add(Activation('softmax'))\n",
    "model.summary()"
   ]
  },
  {
   "cell_type": "code",
   "execution_count": 13,
   "metadata": {},
   "outputs": [],
   "source": [
    "callbacks = list()"
   ]
  },
  {
   "cell_type": "code",
   "execution_count": 14,
   "metadata": {},
   "outputs": [],
   "source": [
    "model.compile(loss ='categorical_crossentropy', optimizer = OPTIMIZER, metrics=['accuracy'])"
   ]
  },
  {
   "cell_type": "markdown",
   "metadata": {},
   "source": [
    "### Azure Machine Learning service メトリック & ログ 記録開始"
   ]
  },
  {
   "cell_type": "code",
   "execution_count": 15,
   "metadata": {},
   "outputs": [],
   "source": [
    "run = experiment.start_logging()"
   ]
  },
  {
   "cell_type": "code",
   "execution_count": 16,
   "metadata": {},
   "outputs": [],
   "source": [
    "callbacks.append(RunCallback(run))"
   ]
  },
  {
   "cell_type": "markdown",
   "metadata": {},
   "source": [
    "## モデル学習"
   ]
  },
  {
   "cell_type": "code",
   "execution_count": 17,
   "metadata": {},
   "outputs": [
    {
     "name": "stderr",
     "output_type": "stream",
     "text": [
      "WARNING - From /anaconda/envs/azureml_py36/lib/python3.6/site-packages/keras/backend/tensorflow_backend.py:422: The name tf.global_variables is deprecated. Please use tf.compat.v1.global_variables instead.\n",
      "\n"
     ]
    },
    {
     "name": "stdout",
     "output_type": "stream",
     "text": [
      "Train on 42000 samples, validate on 18000 samples\n",
      "Epoch 1/20\n",
      "42000/42000 [==============================] - 4s 89us/step - loss: 1.0342 - accuracy: 0.6757 - val_loss: 0.4117 - val_accuracy: 0.8903\n",
      "Epoch 2/20\n",
      "42000/42000 [==============================] - 4s 85us/step - loss: 0.5050 - accuracy: 0.8484 - val_loss: 0.3143 - val_accuracy: 0.9100\n",
      "Epoch 3/20\n",
      "42000/42000 [==============================] - 4s 85us/step - loss: 0.4116 - accuracy: 0.8780 - val_loss: 0.2693 - val_accuracy: 0.9233\n",
      "Epoch 4/20\n",
      "42000/42000 [==============================] - 4s 85us/step - loss: 0.3578 - accuracy: 0.8940 - val_loss: 0.2418 - val_accuracy: 0.9293\n",
      "Epoch 5/20\n",
      "42000/42000 [==============================] - 4s 85us/step - loss: 0.3230 - accuracy: 0.9057 - val_loss: 0.2218 - val_accuracy: 0.9347\n",
      "Epoch 6/20\n",
      "42000/42000 [==============================] - 4s 85us/step - loss: 0.2954 - accuracy: 0.9149 - val_loss: 0.2028 - val_accuracy: 0.9400\n",
      "Epoch 7/20\n",
      "42000/42000 [==============================] - 4s 87us/step - loss: 0.2743 - accuracy: 0.9195 - val_loss: 0.1931 - val_accuracy: 0.9433\n",
      "Epoch 8/20\n",
      "42000/42000 [==============================] - 4s 85us/step - loss: 0.2565 - accuracy: 0.9257 - val_loss: 0.1796 - val_accuracy: 0.9471\n",
      "Epoch 9/20\n",
      "42000/42000 [==============================] - 4s 84us/step - loss: 0.2420 - accuracy: 0.9290 - val_loss: 0.1732 - val_accuracy: 0.9481\n",
      "Epoch 10/20\n",
      "42000/42000 [==============================] - 4s 85us/step - loss: 0.2268 - accuracy: 0.9321 - val_loss: 0.1649 - val_accuracy: 0.9507\n",
      "Epoch 11/20\n",
      "42000/42000 [==============================] - 4s 84us/step - loss: 0.2163 - accuracy: 0.9348 - val_loss: 0.1577 - val_accuracy: 0.9536\n",
      "Epoch 12/20\n",
      "42000/42000 [==============================] - 4s 84us/step - loss: 0.2059 - accuracy: 0.9389 - val_loss: 0.1510 - val_accuracy: 0.9558\n",
      "Epoch 13/20\n",
      "42000/42000 [==============================] - 4s 86us/step - loss: 0.1995 - accuracy: 0.9414 - val_loss: 0.1462 - val_accuracy: 0.9568\n",
      "Epoch 14/20\n",
      "42000/42000 [==============================] - 4s 84us/step - loss: 0.1906 - accuracy: 0.9439 - val_loss: 0.1458 - val_accuracy: 0.9563\n",
      "Epoch 15/20\n",
      "42000/42000 [==============================] - 4s 84us/step - loss: 0.1855 - accuracy: 0.9445 - val_loss: 0.1391 - val_accuracy: 0.9589\n",
      "Epoch 16/20\n",
      "42000/42000 [==============================] - 4s 85us/step - loss: 0.1764 - accuracy: 0.9493 - val_loss: 0.1349 - val_accuracy: 0.9607\n",
      "Epoch 17/20\n",
      "42000/42000 [==============================] - 4s 84us/step - loss: 0.1688 - accuracy: 0.9499 - val_loss: 0.1319 - val_accuracy: 0.9606\n",
      "Epoch 18/20\n",
      "42000/42000 [==============================] - 4s 85us/step - loss: 0.1654 - accuracy: 0.9506 - val_loss: 0.1277 - val_accuracy: 0.9619\n",
      "Epoch 19/20\n",
      "42000/42000 [==============================] - 4s 85us/step - loss: 0.1597 - accuracy: 0.9525 - val_loss: 0.1259 - val_accuracy: 0.9632\n",
      "Epoch 20/20\n",
      "42000/42000 [==============================] - 4s 87us/step - loss: 0.1543 - accuracy: 0.9551 - val_loss: 0.1229 - val_accuracy: 0.9638\n"
     ]
    },
    {
     "data": {
      "text/plain": [
       "<keras.callbacks.callbacks.History at 0x7fe8f1de7908>"
      ]
     },
     "execution_count": 17,
     "metadata": {},
     "output_type": "execute_result"
    }
   ],
   "source": [
    "model.fit(X_train,\n",
    "          Y_train,\n",
    "          batch_size=BATCH_SIZE, \n",
    "          epochs=NB_EPOCH, \n",
    "          callbacks= callbacks,\n",
    "          verbose = 1, \n",
    "          validation_split=VALIDATION_SPLIT)"
   ]
  },
  {
   "cell_type": "code",
   "execution_count": 19,
   "metadata": {},
   "outputs": [
    {
     "name": "stdout",
     "output_type": "stream",
     "text": [
      "10000/10000 [==============================] - 0s 29us/step\n",
      "Test score: 0.11154165054019541\n",
      "Test accuracy 0.9674000144004822\n",
      "Loss value 0.11154165054019541\n",
      "Accuracy value 0.9674000144004822\n"
     ]
    }
   ],
   "source": [
    "score = model.evaluate(X_test, Y_test, verbose= 1)\n",
    "print(\"Test score:\", score[0])\n",
    "print(\"Test accuracy\" , score[1])\n",
    "print(\"Loss value\", score[0])\n",
    "print(\"Accuracy value\", score[1])"
   ]
  },
  {
   "cell_type": "markdown",
   "metadata": {},
   "source": [
    "## メトリックの記録"
   ]
  },
  {
   "cell_type": "code",
   "execution_count": 20,
   "metadata": {},
   "outputs": [],
   "source": [
    "run.log(\"Loss\", score[0])\n",
    "run.log(\"Accuracy\", score[1])\n",
    "run.log(\"BATCH_SIZE\", BATCH_SIZE)"
   ]
  },
  {
   "cell_type": "markdown",
   "metadata": {},
   "source": [
    "## モデル保存"
   ]
  },
  {
   "cell_type": "code",
   "execution_count": 21,
   "metadata": {},
   "outputs": [],
   "source": [
    "# !pip install pydot\n",
    "# !pip install pydot-ng\n",
    "# !pip install graphviz\n",
    "# !sudo apt-get -y install graphviz"
   ]
  },
  {
   "cell_type": "code",
   "execution_count": 22,
   "metadata": {},
   "outputs": [],
   "source": [
    "with run:\n",
    "    plot_model(model, to_file='./outputs/model.png')\n",
    "    model.save_weights('./outputs/mnist_mlp_weights.h5')"
   ]
  },
  {
   "cell_type": "code",
   "execution_count": 24,
   "metadata": {},
   "outputs": [],
   "source": [
    "run.complete()"
   ]
  },
  {
   "cell_type": "code",
   "execution_count": 25,
   "metadata": {},
   "outputs": [
    {
     "data": {
      "text/html": [
       "<table style=\"width:100%\"><tr><th>Experiment</th><th>Id</th><th>Type</th><th>Status</th><th>Details Page</th><th>Docs Page</th></tr><tr><td>keras_mnist_local</td><td>05b997ee-af1f-4dac-84af-260f32b9354b</td><td></td><td>Running</td><td><a href=\"https://mlworkspace.azure.ai/portal/subscriptions/9c0f91b8-eb2f-484c-979c-15848c098a6b/resourceGroups/dllab-test/providers/Microsoft.MachineLearningServices/workspaces/azureml/experiments/keras_mnist_local/runs/05b997ee-af1f-4dac-84af-260f32b9354b\" target=\"_blank\" rel=\"noopener\">Link to Azure Portal</a></td><td><a href=\"https://docs.microsoft.com/en-us/python/api/azureml-core/azureml.core.run.Run?view=azure-ml-py\" target=\"_blank\" rel=\"noopener\">Link to Documentation</a></td></tr></table>"
      ],
      "text/plain": [
       "Run(Experiment: keras_mnist_local,\n",
       "Id: 05b997ee-af1f-4dac-84af-260f32b9354b,\n",
       "Type: None,\n",
       "Status: Running)"
      ]
     },
     "execution_count": 25,
     "metadata": {},
     "output_type": "execute_result"
    }
   ],
   "source": [
    "run"
   ]
  },
  {
   "cell_type": "code",
   "execution_count": null,
   "metadata": {},
   "outputs": [],
   "source": []
  },
  {
   "cell_type": "code",
   "execution_count": null,
   "metadata": {},
   "outputs": [],
   "source": []
  },
  {
   "cell_type": "code",
   "execution_count": null,
   "metadata": {},
   "outputs": [],
   "source": []
  }
 ],
 "metadata": {
  "kernelspec": {
   "display_name": "Python 3.6 - AzureML",
   "language": "python",
   "name": "python3-azureml"
  },
  "language_info": {
   "codemirror_mode": {
    "name": "ipython",
    "version": 3
   },
   "file_extension": ".py",
   "mimetype": "text/x-python",
   "name": "python",
   "nbconvert_exporter": "python",
   "pygments_lexer": "ipython3",
   "version": "3.6.2"
  }
 },
 "nbformat": 4,
 "nbformat_minor": 2
}
